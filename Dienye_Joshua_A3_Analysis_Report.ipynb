{
 "cells": [
  {
   "cell_type": "markdown",
   "metadata": {},
   "source": [
    " <hr style=\"height:.9px;border:none;color:#333;background-color:#333;\" />\n",
    "<hr style=\"height:.9px;border:none;color:#333;background-color:#333;\" />\n",
    "\n",
    "<b>Apprentice Chef | Analysis Report to Management</b>\n",
    "<br>\n",
    "<b>DAT-5303 | Machine Learning<b>\n",
    "<br>\n",
    "Joshua Dienye\n",
    "<br>\n",
    "Hult International Business School<br>\n",
    "\n",
    "<hr style=\"height:.9px;border:none;color:#333;background-color:#333;\" />\n",
    "<hr style=\"height:.9px;border:none;color:#333;background-color:#333;\" />"
   ]
  },
  {
   "cell_type": "code",
   "execution_count": 1,
   "metadata": {
    "code_folding": [
     0
    ]
   },
   "outputs": [],
   "source": [
    "# importing libraries\n",
    "import pandas as pd\n",
    "import matplotlib.pyplot as plt\n",
    "import seaborn as sns\n",
    "import numpy as np\n",
    "import re\n",
    "from sklearn.model_selection import train_test_split\n",
    "from sklearn.linear_model import LogisticRegression\n",
    "from sklearn.linear_model import LinearRegression\n",
    "import statsmodels.formula.api as smf                \n",
    "from sklearn.metrics import confusion_matrix\n",
    "from sklearn.metrics import roc_auc_score            \n",
    "from sklearn.neighbors import KNeighborsClassifier   \n",
    "from sklearn.neighbors import KNeighborsRegressor    \n",
    "from sklearn.preprocessing import StandardScaler     \n",
    "from sklearn.tree import DecisionTreeClassifier      \n",
    "from sklearn.tree import export_graphviz            \n",
    "from six import StringIO          \n",
    "from IPython.display import Image                    \n",
    "import pydotplus                                    \n",
    "from sklearn.model_selection import RandomizedSearchCV \n",
    "from sklearn.model_selection import GridSearchCV \n",
    "from sklearn.metrics import make_scorer              \n",
    "from sklearn.ensemble import RandomForestClassifier    \n",
    "from sklearn.ensemble import GradientBoostingClassifier"
   ]
  },
  {
   "cell_type": "code",
   "execution_count": 2,
   "metadata": {
    "code_folding": [
     0
    ]
   },
   "outputs": [],
   "source": [
    "# storing file path as file\n",
    "file = './Apprentice_Chef_Dataset.xlsx'\n",
    "\n",
    "# creating dataset using the file path\n",
    "ac_dataset = pd.read_excel(io = file)\n",
    "\n",
    "# setting pandas print options\n",
    "pd.set_option('display.max_rows', 500)\n",
    "pd.set_option('display.max_columns', 500)\n",
    "pd.set_option('display.width', 1000)"
   ]
  },
  {
   "cell_type": "code",
   "execution_count": 3,
   "metadata": {
    "code_folding": [
     0
    ]
   },
   "outputs": [],
   "source": [
    "# changing all column names to lowercase\n",
    "ac_dataset.columns = ac_dataset.columns.str.lower()"
   ]
  },
  {
   "cell_type": "code",
   "execution_count": 4,
   "metadata": {
    "code_folding": [
     0
    ]
   },
   "outputs": [],
   "source": [
    "# UDF to count number of names of each customer\n",
    "def text_split_feature(col, df, sep = ' ', new_col_name = 'NUM_OF_NAMES'):\n",
    "    \"\"\"\n",
    "Splits values in a string Series (as part of a DataFrame) and sums the number\n",
    "of resulting items. Automatically appends summed column to original DataFrame.\n",
    "\n",
    "PARAMETERS\n",
    "----------\n",
    "col          : column to split\n",
    "df           : DataFrame where column is located\n",
    "sep          : string sequence to split by, default ' '\n",
    "new_col_name : name of new column after summing split, default\n",
    "               'number_of_names'\n",
    "\"\"\"\n",
    "    # creating new column\n",
    "    df[new_col_name] = 0\n",
    "    \n",
    "    # for loop to split names and count total\n",
    "    for index, val in df.iterrows():\n",
    "        df.loc[index, new_col_name] = len(df.loc[index, col].split(sep = ' '))\n",
    "        \n",
    "# creating new column for number of names each customer has\n",
    "text_split_feature(col = 'name', df = ac_dataset, \n",
    "                   new_col_name = 'number_of_names')\n",
    "\n",
    "# dropping columns name, first_name, and family_name\n",
    "ac_dataset = ac_dataset.drop(['name', 'first_name', 'family_name'], axis = 1)"
   ]
  },
  {
   "cell_type": "code",
   "execution_count": 5,
   "metadata": {
    "code_folding": [
     0
    ]
   },
   "outputs": [],
   "source": [
    "# log transformation of revenue and saving as new column\n",
    "ac_dataset['log_revenue'] = np.log10(ac_dataset['revenue'])\n",
    "\n",
    "# creating new columns for thresholds\n",
    "ac_dataset['log_revenue_one'] = 0\n",
    "ac_dataset['log_revenue_two'] = 0\n",
    "ac_dataset['log_revenue_three'] = 0\n",
    "\n",
    "# for loop to mark customers who meet the thresholds\n",
    "for index, value in ac_dataset.iterrows():\n",
    "    if ac_dataset.loc[index, 'log_revenue'] >= 3.40:\n",
    "        ac_dataset.loc[index, 'log_revenue_three'] = 1\n",
    "    elif ac_dataset.loc[index, 'log_revenue'] >= 3.15:\n",
    "        ac_dataset.loc[index, 'log_revenue_two'] = 1\n",
    "    elif ac_dataset.loc[index, 'log_revenue'] >= 2.85:\n",
    "        ac_dataset.loc[index, 'log_revenue_one'] = 1\n",
    "    else:\n",
    "        continue"
   ]
  },
  {
   "cell_type": "code",
   "execution_count": 6,
   "metadata": {
    "code_folding": [
     0
    ]
   },
   "outputs": [],
   "source": [
    "# log transformation of avg_prep_vid_time and saving as new column\n",
    "ac_dataset['log_avg_prep_vid_time'] = np.log10(ac_dataset['avg_prep_vid_time'])\n",
    "\n",
    "# creating new columns for thresholds\n",
    "ac_dataset['vid_prep_one'] = 0\n",
    "ac_dataset['vid_prep_two'] = 0\n",
    "\n",
    "# for loop to mark customers who meet the thresholds\n",
    "for index, value in ac_dataset.iterrows():\n",
    "    if ac_dataset.loc[index, 'log_avg_prep_vid_time'] >= 2.60:\n",
    "        ac_dataset.loc[index, 'vid_prep_one'] = 1\n",
    "    elif ac_dataset.loc[index, 'log_avg_prep_vid_time'] >= 1.75:\n",
    "        ac_dataset.loc[index, 'vid_prep_two'] = 1\n",
    "    else:\n",
    "        continue"
   ]
  },
  {
   "cell_type": "code",
   "execution_count": 7,
   "metadata": {
    "code_folding": [
     0
    ]
   },
   "outputs": [],
   "source": [
    "# log transformation of avg_time_per_site_visit and saving as new column\n",
    "ac_dataset['log_avg_time_per_site_visit'] = np.log10(ac_dataset['avg_time_per_site_visit'])\n",
    "\n",
    "# creating new columns for thresholds\n",
    "ac_dataset['visit_time_one'] = 0\n",
    "ac_dataset['visit_time_two'] = 0\n",
    "ac_dataset['visit_time_three'] = 0\n",
    "\n",
    "# for loop to mark customers who meet the thresholds\n",
    "for index, value in ac_dataset.iterrows():\n",
    "    if ac_dataset.loc[index, 'log_avg_prep_vid_time'] >= 2.50:\n",
    "        ac_dataset.loc[index, 'visit_time_three'] = 1\n",
    "    elif ac_dataset.loc[index, 'log_avg_prep_vid_time'] >= 2.00:\n",
    "        ac_dataset.loc[index, 'visit_time_two'] = 1\n",
    "    elif ac_dataset.loc[index, 'log_avg_prep_vid_time'] >= 1.75:\n",
    "        ac_dataset.loc[index, 'visit_time_one'] = 1\n",
    "    else:\n",
    "        continue"
   ]
  },
  {
   "cell_type": "code",
   "execution_count": 8,
   "metadata": {
    "code_folding": [
     0
    ]
   },
   "outputs": [],
   "source": [
    "# engineering feature for total time spent on website\n",
    "ac_dataset['total_avg_time_on_site'] = ac_dataset['avg_prep_vid_time'] +\\\n",
    "                                   ac_dataset['avg_time_per_site_visit']\n",
    "\n",
    "# log transformation of total_avg_time_on_site and saving as new column\n",
    "ac_dataset['log_total_avg_time_on_site'] = np.log10(ac_dataset['total_avg_time_on_site'])\n",
    "\n",
    "# creating new column for thresholds\n",
    "ac_dataset['time_on_site_one'] = 0\n",
    "\n",
    "# for loop to mark customers who meet the threshold\n",
    "for index, value in ac_dataset.iterrows():\n",
    "    if ac_dataset.loc[index, 'log_avg_prep_vid_time'] >= 2.50:\n",
    "        ac_dataset.loc[index, 'time_on_site_one'] = 1"
   ]
  },
  {
   "cell_type": "code",
   "execution_count": 9,
   "metadata": {
    "code_folding": [
     0
    ]
   },
   "outputs": [],
   "source": [
    "# creating lists for different categories\n",
    "prof_email = ['mmm', 'amex', 'apple', 'boeing', 'caterpillar', 'chevron',\n",
    "             'cisco', 'cocacola', 'disney', 'dupont', 'exxon', 'ge', 'walmart',\n",
    "             'goldmansacs', 'homedepot', 'ibm', 'intel', 'jnj', 'jpmorgan',\n",
    "             'mcdonalds', 'merck', 'microsoft', 'nike', 'pfizer', 'pg',\n",
    "             'travelers', 'unitedtech', 'unitedhealth', 'verizon', 'visa']\n",
    "per_email = ['gmail', 'yahoo', 'protonmail']\n",
    "junk_email = ['me', 'aol', 'hotmail', 'live', 'msn', 'passport']\n",
    "\n",
    "# creating a column email_category with just zeros\n",
    "ac_dataset['email_category'] = '0'\n",
    "\n",
    "# for loop to check the domain name and classify it based on grouping from\n",
    "# marketing team\n",
    "for index, email in ac_dataset[['email']].iterrows():\n",
    "    domain_name = re.findall('@+\\S+[.com|.org]', email[0])[0]\n",
    "    for pattern in ['@', '.com', '.org']:\n",
    "        domain_name = domain_name.replace(pattern, '')\n",
    "    if domain_name in prof_email:\n",
    "        ac_dataset.loc[index, 'email_category'] = 'Professional'\n",
    "    elif domain_name in per_email:\n",
    "        ac_dataset.loc[index, 'email_category'] = 'Personal'\n",
    "    elif domain_name in junk_email:\n",
    "        ac_dataset.loc[index, 'email_category'] = 'Junk'\n",
    "    else:\n",
    "        ac_dataset.loc[index, 'email_category'] = 'Undefined'\n",
    "        \n",
    "# one hot encoding email_category\n",
    "one_hot_email = pd.get_dummies(ac_dataset['email_category'], \n",
    "                               prefix = 'email')\n",
    "\n",
    "# joining codings together\n",
    "ac_dataset = ac_dataset.join(one_hot_email)\n",
    "\n",
    "# changing all column names to lowercase\n",
    "ac_dataset.columns = ac_dataset.columns.str.lower()"
   ]
  },
  {
   "cell_type": "code",
   "execution_count": 10,
   "metadata": {
    "code_folding": [
     0
    ]
   },
   "outputs": [],
   "source": [
    "# creating new column to hold domain names\n",
    "ac_dataset['domain_name'] = 0\n",
    "\n",
    "# for loop to strip emails to get only domain names\n",
    "for index, email in ac_dataset[['email']].iterrows():\n",
    "    domain_name = re.findall('@+\\S+[.com|.org]', email[0])[0]\n",
    "    for pattern in ['@', '.com', '.org']:\n",
    "        domain_name = domain_name.replace(pattern, '')\n",
    "    ac_dataset.loc[index, 'domain_name'] = domain_name\n",
    "    \n",
    "# a list of all email domains highly correlated with cross_sell_success\n",
    "email_list_one = ['aol', 'hotmail', 'msn', 'live']\n",
    "email_list_two = ['microsoft', 'merck', 'jpmorgan', 'pg', 'amex', 'intel', \n",
    "                  'passport', 'me', 'caterpillar', 'unitedhealth']\n",
    "\n",
    "# creating new column for different email categories\n",
    "ac_dataset['email_categories'] = 0\n",
    "\n",
    "# for loop to group mail into different categories\n",
    "for index, domain in ac_dataset[['domain_name']].iterrows():\n",
    "    if domain[0] in email_list_one:\n",
    "        ac_dataset.loc[index, 'email_categories'] = 'group_one'\n",
    "    elif domain[0] in email_list_two:\n",
    "        ac_dataset.loc[index, 'email_categories'] = 'group_two'\n",
    "    else:\n",
    "        ac_dataset.loc[index, 'email_categories'] = 'group_three'\n",
    "        \n",
    "# one hot encoding email_category\n",
    "one_hot_email_groups = pd.get_dummies(ac_dataset['email_categories'], \n",
    "                               prefix = 'email')\n",
    "\n",
    "# joining codings together\n",
    "ac_dataset = ac_dataset.join(one_hot_email_groups)\n",
    "\n",
    "# dropping columns not used\n",
    "ac_dataset = ac_dataset.drop(['email_category', 'email_personal', 'email',\n",
    "                              'email_categories', 'email_group_three', \n",
    "                              'domain_name'], axis = 1)"
   ]
  },
  {
   "cell_type": "code",
   "execution_count": 11,
   "metadata": {
    "code_folding": [
     0
    ]
   },
   "outputs": [],
   "source": [
    "# changing the column name\n",
    "ac_dataset = ac_dataset.rename(columns = {'largest_order_size': 'avg_order_size'})"
   ]
  },
  {
   "cell_type": "code",
   "execution_count": 12,
   "metadata": {
    "code_folding": [
     0
    ]
   },
   "outputs": [],
   "source": [
    "# creating new feature for total logins \n",
    "ac_dataset['total_logins'] = ac_dataset['pc_logins'] + ac_dataset['mobile_logins']"
   ]
  },
  {
   "cell_type": "code",
   "execution_count": 13,
   "metadata": {
    "code_folding": [
     0
    ]
   },
   "outputs": [],
   "source": [
    "# if early_delivries and late_deliveries both equal to zero, then customer\n",
    "# got deliveries on-time every time \n",
    "\n",
    "# creating empty column\n",
    "ac_dataset['delivery_time'] = 0\n",
    "\n",
    "# for loop to create column with delivery description\n",
    "for index, value in ac_dataset.iterrows():\n",
    "        #if early and late equals to zero\n",
    "        if ac_dataset.loc[index, 'early_deliveries'] == 0\\\n",
    "        and ac_dataset.loc[index, 'late_deliveries'] == 0:\n",
    "            ac_dataset.loc[index, 'delivery_time'] = 'on_time'\n",
    "        #if early and late greater than zero\n",
    "        elif ac_dataset.loc[index, 'early_deliveries'] > 0\\\n",
    "        and ac_dataset.loc[index, 'late_deliveries'] > 0: \n",
    "            ac_dataset.loc[index, 'delivery_time'] = 'mixed'\n",
    "        #if early greater than zero\n",
    "        elif ac_dataset.loc[index, 'early_deliveries'] > 0: \n",
    "            ac_dataset.loc[index, 'delivery_time'] = 'early' \n",
    "        #if late greater than zero\n",
    "        elif ac_dataset.loc[index, 'late_deliveries'] > 0: \n",
    "            ac_dataset.loc[index, 'delivery_time'] = 'late'\n",
    "        # for handling errors\n",
    "        else:\n",
    "            ac_dataset.loc[index, 'delivery_time'] = 'unknown' \n",
    "            \n",
    "# one hot encoding delivery_time\n",
    "one_hot_email = pd.get_dummies(ac_dataset['delivery_time'], \n",
    "                               prefix = 'delivery_time')\n",
    "\n",
    "# joining codings togetherz\n",
    "ac_dataset = ac_dataset.join(one_hot_email)\n",
    "\n",
    "# changing all column names to lowercase\n",
    "ac_dataset.columns = ac_dataset.columns.str.lower()\n",
    "\n",
    "# dropping categorical variables after encoding\n",
    "ac_dataset = ac_dataset.drop(['delivery_time', 'delivery_time_on_time'],\n",
    "                             axis = 1)"
   ]
  },
  {
   "cell_type": "code",
   "execution_count": 14,
   "metadata": {
    "code_folding": [
     0
    ]
   },
   "outputs": [],
   "source": [
    "# if cancellations_before_noon and cancellations_after_noon both equal \n",
    "# to zero, then customer never cancelled \n",
    "\n",
    "# creating empty column\n",
    "ac_dataset['cancellations'] = 0\n",
    "\n",
    "# for loop to create column with cancellation description\n",
    "for index, value in ac_dataset.iterrows():\n",
    "        #if before_noon and after_noon equals to zero\n",
    "        if ac_dataset.loc[index, 'cancellations_before_noon'] == 0\\\n",
    "        and ac_dataset.loc[index, 'cancellations_after_noon'] == 0:\n",
    "            ac_dataset.loc[index, 'cancellations'] = 'none'\n",
    "        #if before_noon greater than zero\n",
    "        elif ac_dataset.loc[index, 'cancellations_before_noon'] > 0: \n",
    "            ac_dataset.loc[index, 'cancellations'] = 'before_noon' \n",
    "        #if after_noon greater than zero\n",
    "        elif ac_dataset.loc[index, 'cancellations_after_noon'] > 0: \n",
    "            ac_dataset.loc[index, 'cancellations'] = 'after_noon'\n",
    "        # for handling errors\n",
    "        else:\n",
    "            ac_dataset.loc[index, 'cancellations'] = 'unknown' \n",
    "            \n",
    "# one hot encoding cancellations\n",
    "one_hot_email = pd.get_dummies(ac_dataset['cancellations'], \n",
    "                               prefix = 'any_cancellations')\n",
    "\n",
    "# joining codings together\n",
    "ac_dataset = ac_dataset.join(one_hot_email)\n",
    "\n",
    "# changing all column names to lowercase\n",
    "ac_dataset.columns = ac_dataset.columns.str.lower()\n",
    "\n",
    "# dropping categorical variables after encoding\n",
    "ac_dataset = ac_dataset.drop(['cancellations', 'any_cancellations_none'],\n",
    "                             axis = 1)"
   ]
  },
  {
   "cell_type": "code",
   "execution_count": 15,
   "metadata": {
    "code_folding": [
     0
    ]
   },
   "outputs": [],
   "source": [
    "# engineering new variables\n",
    "ac_dataset['revenue_per_meal'] = ac_dataset['revenue'] / \\\n",
    "                                 ac_dataset['total_meals_ordered']\n",
    "ac_dataset['unique_meal_ratio'] = ac_dataset['unique_meals_purch'] / \\\n",
    "                                 ac_dataset['total_meals_ordered']\n",
    "\n",
    "# log transformation of revenue_per_meal and saving as new column\n",
    "ac_dataset['log_revenue_per_meal'] = np.log10(ac_dataset['revenue_per_meal'])\n",
    "\n",
    "# log transformation of revenue_per_meal and saving as new column\n",
    "ac_dataset['log_unique_meal_ratio'] = np.log10(ac_dataset['unique_meal_ratio'])"
   ]
  },
  {
   "cell_type": "code",
   "execution_count": 16,
   "metadata": {
    "code_folding": [
     0
    ]
   },
   "outputs": [],
   "source": [
    "# creating variable for count varibale columns\n",
    "count_variables = ['avg_clicks_per_visit', 'median_meal_rating', \n",
    "                   'avg_order_size', 'pc_logins', 'unique_meals_purch', \n",
    "                   'contacts_w_customer_service', 'product_categories_viewed']\n",
    "\n",
    "# creating variable for count varibale columns with zeros\n",
    "count_variables_zero = ['total_photos_viewed', 'master_classes_attended',\n",
    "                        'mobile_logins', 'weekly_plan', 'early_deliveries',\n",
    "                        'late_deliveries', 'cancellations_before_noon',\n",
    "                        'cancellations_after_noon']"
   ]
  },
  {
   "cell_type": "code",
   "execution_count": 17,
   "metadata": {
    "code_folding": [
     0
    ]
   },
   "outputs": [],
   "source": [
    "# dummy variable for each variable in count_variables_zero\n",
    "\n",
    "# for each variable in count_variables_zero\n",
    "for variable in count_variables_zero:\n",
    "    # create column filled with zero\n",
    "    ac_dataset['has_' + variable] = 0\n",
    "    # creating index and value variables for each row\n",
    "    for index, value in ac_dataset.iterrows():\n",
    "        # if value in variable column greater than zero\n",
    "        if ac_dataset.loc[index, (variable)] > 0:\n",
    "            # turn the value in that index to one\n",
    "            ac_dataset.loc[index, ('has_' + variable)] = 1"
   ]
  },
  {
   "cell_type": "code",
   "execution_count": 18,
   "metadata": {
    "code_folding": [
     0
    ]
   },
   "outputs": [],
   "source": [
    "# performing a log transform on all count variables \n",
    "for variable in count_variables:\n",
    "    ac_dataset['log_' + variable] = np.log10(ac_dataset[variable])\n",
    "    \n",
    "# performing log transformation on total_meals_ordered\n",
    "ac_dataset['log_total_meals_ordered'] = np.log10(ac_dataset['total_meals_ordered'])"
   ]
  },
  {
   "cell_type": "code",
   "execution_count": 19,
   "metadata": {
    "code_folding": [
     0
    ]
   },
   "outputs": [],
   "source": [
    "# creating empty columns for engineered variables \n",
    "ac_dataset['procastinator'] = 0\n",
    "ac_dataset['working'] = 0 \n",
    "ac_dataset['active_pc_user'] = 0 \n",
    "ac_dataset['common_user'] = 0 \n",
    "ac_dataset['weekend_fighter'] = 0 \n",
    "\n",
    "# for loop to create features\n",
    "for index, value in ac_dataset.iterrows():\n",
    "    if ac_dataset.loc[index, 'email_junk'] == 1 and \\\n",
    "    ac_dataset.loc[index, 'avg_time_per_site_visit'] >= 99.6:\n",
    "        ac_dataset.loc[index, 'procastinator'] = 1  \n",
    "    if ac_dataset.loc[index, 'email_professional'] == 1 and \\\n",
    "    ac_dataset.loc[index, 'avg_time_per_site_visit'] <= 99.6:\n",
    "        ac_dataset.loc[index, 'working'] = 1    \n",
    "    if ac_dataset.loc[index, 'pc_logins'] > 5 and \\\n",
    "    ac_dataset.loc[index, 'avg_time_per_site_visit'] >= 99.6 and \\\n",
    "    ac_dataset.loc[index, 'mobile_logins']:\n",
    "        ac_dataset.loc[index, 'active_pc_user'] = 1  \n",
    "    if ac_dataset.loc[index, 'revenue_per_meal'] >= 25:\n",
    "        ac_dataset.loc[index, 'common_user'] = 1      \n",
    "    if ac_dataset.loc[index, 'total_meals_ordered'] <= 60 and \\\n",
    "    ac_dataset.loc[index, 'revenue_per_meal'] > 34:\n",
    "        ac_dataset.loc[index, 'weekend_fighter'] =1"
   ]
  },
  {
   "cell_type": "markdown",
   "metadata": {},
   "source": [
    "# INTRODUCTION\n",
    "\n",
    "Apprentice Chef, Inc. is an innovative company with a new way to serve customers' needs to prepare food. Meal sets can be ordered via the website or the mobile application and delivered directly to the customer. The goal of this analysis is to analyze the data and develop key insights into our customers. "
   ]
  },
  {
   "cell_type": "markdown",
   "metadata": {},
   "source": [
    "# REVENUE"
   ]
  },
  {
   "cell_type": "code",
   "execution_count": 20,
   "metadata": {
    "code_folding": [
     0
    ]
   },
   "outputs": [
    {
     "data": {
      "image/png": "[encoded data removed]",
      "text/plain": [
       "<Figure size 720x360 with 1 Axes>"
      ]
     },
     "metadata": {
      "needs_background": "light"
     },
     "output_type": "display_data"
    }
   ],
   "source": [
    "# displaying the plot for revenue per meal\n",
    "sns.displot(x = 'revenue_per_meal',\n",
    "           data = ac_dataset,\n",
    "           height = 5,\n",
    "           aspect = 2)\n",
    "\n",
    "# showing vertical line for threshold\n",
    "plt.axvline(x = 90, color = 'red')\n",
    "\n",
    "# title and labels\n",
    "plt.title('Distribution of Revenue Per Meal')\n",
    "plt.xlabel('Revenue Per Meal ($)')\n",
    "\n",
    "# displaying the plot\n",
    "plt.show()"
   ]
  },
  {
   "cell_type": "markdown",
   "metadata": {},
   "source": [
    "When looking at revenue per meal, 30 customers spend above $90 per meal. Although the number of customers is small, they contribute approximately 2% of the total revenue. An account manager should be assigned to these customers to ensure a smoother purchase experience and to ensure their purchases remain frequent. "
   ]
  },
  {
   "cell_type": "code",
   "execution_count": 21,
   "metadata": {
    "code_folding": [
     0
    ]
   },
   "outputs": [],
   "source": [
    "# setting condition\n",
    "condition = ac_dataset['revenue_per_meal'] > 90"
   ]
  },
  {
   "cell_type": "code",
   "execution_count": 22,
   "metadata": {
    "code_folding": [
     0
    ]
   },
   "outputs": [],
   "source": [
    "# # percentage of customers spending more than condition per meal\n",
    "# print(f'''\n",
    "# Number of customers above threshold: {len(ac_dataset['revenue_per_meal'][condition])}''')\n",
    "\n",
    "# print(f'''\n",
    "# Percentage of revenue contributed: {round(sum(ac_dataset['revenue'][condition])/sum(ac_dataset['revenue']), \n",
    "#             ndigits = 2)*100}\n",
    "#             ''')"
   ]
  },
  {
   "cell_type": "code",
   "execution_count": 23,
   "metadata": {
    "code_folding": [
     0
    ]
   },
   "outputs": [],
   "source": [
    "# preparing explanatory variable data\n",
    "ac_data = ac_dataset.drop(['revenue', 'log_revenue'], axis = 1)\n",
    "\n",
    "# preparing response variables\n",
    "ac_target = ac_dataset.loc[ : , 'revenue']\n",
    "log_ac_target = ac_dataset.loc[ : , 'log_revenue']\n",
    "\n",
    "x_variables = ['cross_sell_success', 'total_meals_ordered', 'unique_meals_purch',\n",
    "               'product_categories_viewed', 'avg_order_size', 'median_meal_rating',\n",
    "               'total_photos_viewed', 'log_avg_prep_vid_time', \n",
    "               'log_unique_meals_purch',\n",
    "               'log_contacts_w_customer_service', 'log_product_categories_viewed',\n",
    "               'log_total_meals_ordered']\n",
    "\n",
    "# preparing x-variables from the OLS model\n",
    "ols_data = ac_dataset[x_variables]\n",
    "\n",
    "# preparing training and testing sets for log_revenue removing high p-values\n",
    "X_train_ols, X_test_ols, y_train_ols, y_test_ols = train_test_split(\n",
    "                                                        ols_data,\n",
    "                                                        log_ac_target,\n",
    "                                                        test_size = 0.25,\n",
    "                                                        random_state = 219)\n",
    "# instantiating model object\n",
    "lr = LinearRegression()\n",
    "\n",
    "# fitting to training data \n",
    "lr_fit = lr.fit(X_train_ols, y_train_ols)\n",
    "\n",
    "# predicting on new data\n",
    "lr_pred = lr_fit.predict(X_test_ols)\n",
    "\n",
    "# zipping each feature name to its coefficient\n",
    "lr_model_values = zip(ac_dataset[x_variables].columns,\n",
    "                     lr_fit.coef_.round(decimals = 4))\n",
    "\n",
    "# setting up a placeholder list to store model features\n",
    "lr_model_lst = [('intercept', lr_fit.intercept_.round(decimals = 4))]\n",
    "\n",
    "# printing out each feature-coefficient pair one by one\n",
    "for val in lr_model_values:\n",
    "    lr_model_lst.append(val)\n",
    "\n",
    "# # scoring the results\n",
    "# print('OLS Training Score :', lr.score(X_train_ols, y_train_ols).round(6))  # using R-square\n",
    "# print('OLS Testing Score  :',  lr.score(X_test_ols, y_test_ols).round(6)) # using R-square\n",
    "\n",
    "lr_train_score = lr.score(X_train_ols, y_train_ols).round(4)\n",
    "lr_test_score  = lr.score(X_test_ols, y_test_ols).round(4)\n",
    "\n",
    "# # displaying and saving the gap between training and testing\n",
    "# print('OLS Train-Test Gap :', abs(lr_train_score - lr_test_score).round(4))\n",
    "# lr_test_gap = abs(lr_train_score - lr_test_score).round(4)"
   ]
  },
  {
   "cell_type": "markdown",
   "metadata": {},
   "source": [
    "A regression model with an R-Square value of 76.386% was created. From this model, we determined the variables with the most positive and negative effects are log average preparation video time and log unique meals purchased, respectively.  A 1% increase in revenue is associated with a 0.59% increase in average preparation video time, while a 1% increase in revenue is associated with a 0.61% decrease in unique meals purchased. "
   ]
  },
  {
   "cell_type": "code",
   "execution_count": 24,
   "metadata": {
    "code_folding": [
     0
    ]
   },
   "outputs": [
    {
     "data": {
      "text/html": [
       "<div>\n",
       "<style scoped>\n",
       "    .dataframe tbody tr th:only-of-type {\n",
       "        vertical-align: middle;\n",
       "    }\n",
       "\n",
       "    .dataframe tbody tr th {\n",
       "        vertical-align: top;\n",
       "    }\n",
       "\n",
       "    .dataframe thead th {\n",
       "        text-align: right;\n",
       "    }\n",
       "</style>\n",
       "<table border=\"1\" class=\"dataframe\">\n",
       "  <thead>\n",
       "    <tr style=\"text-align: right;\">\n",
       "      <th></th>\n",
       "      <th>Labels</th>\n",
       "      <th>Coefs</th>\n",
       "    </tr>\n",
       "  </thead>\n",
       "  <tbody>\n",
       "    <tr>\n",
       "      <th>0</th>\n",
       "      <td>Intercept</td>\n",
       "      <td>1.2323</td>\n",
       "    </tr>\n",
       "    <tr>\n",
       "      <th>1</th>\n",
       "      <td>Cross Sell Sucess</td>\n",
       "      <td>-0.0152</td>\n",
       "    </tr>\n",
       "    <tr>\n",
       "      <th>2</th>\n",
       "      <td>Total Meals Ordered</td>\n",
       "      <td>-0.0008</td>\n",
       "    </tr>\n",
       "    <tr>\n",
       "      <th>3</th>\n",
       "      <td>Unique Meals Purchased</td>\n",
       "      <td>0.0517</td>\n",
       "    </tr>\n",
       "    <tr>\n",
       "      <th>4</th>\n",
       "      <td>Product Categories Viewed</td>\n",
       "      <td>0.0106</td>\n",
       "    </tr>\n",
       "    <tr>\n",
       "      <th>5</th>\n",
       "      <td>Average Order Size</td>\n",
       "      <td>-0.0149</td>\n",
       "    </tr>\n",
       "    <tr>\n",
       "      <th>6</th>\n",
       "      <td>Median Meal Rating</td>\n",
       "      <td>0.0635</td>\n",
       "    </tr>\n",
       "    <tr>\n",
       "      <th>7</th>\n",
       "      <td>Total Photos Viewed</td>\n",
       "      <td>0.0001</td>\n",
       "    </tr>\n",
       "    <tr>\n",
       "      <th>8</th>\n",
       "      <td>Log Average Prep Video Time</td>\n",
       "      <td>0.5924</td>\n",
       "    </tr>\n",
       "    <tr>\n",
       "      <th>9</th>\n",
       "      <td>Log Unique Meals Purchased</td>\n",
       "      <td>-0.6158</td>\n",
       "    </tr>\n",
       "    <tr>\n",
       "      <th>10</th>\n",
       "      <td>Log Contacts with Customer Service</td>\n",
       "      <td>0.1680</td>\n",
       "    </tr>\n",
       "    <tr>\n",
       "      <th>11</th>\n",
       "      <td>Log Product Categories Viewed</td>\n",
       "      <td>-0.0979</td>\n",
       "    </tr>\n",
       "    <tr>\n",
       "      <th>12</th>\n",
       "      <td>Log Total Meals Ordered</td>\n",
       "      <td>0.3968</td>\n",
       "    </tr>\n",
       "  </tbody>\n",
       "</table>\n",
       "</div>"
      ],
      "text/plain": [
       "                                Labels   Coefs\n",
       "0                            Intercept  1.2323\n",
       "1                    Cross Sell Sucess -0.0152\n",
       "2                  Total Meals Ordered -0.0008\n",
       "3               Unique Meals Purchased  0.0517\n",
       "4            Product Categories Viewed  0.0106\n",
       "5                   Average Order Size -0.0149\n",
       "6                   Median Meal Rating  0.0635\n",
       "7                  Total Photos Viewed  0.0001\n",
       "8          Log Average Prep Video Time  0.5924\n",
       "9           Log Unique Meals Purchased -0.6158\n",
       "10  Log Contacts with Customer Service  0.1680\n",
       "11       Log Product Categories Viewed -0.0979\n",
       "12             Log Total Meals Ordered  0.3968"
      ]
     },
     "execution_count": 24,
     "metadata": {},
     "output_type": "execute_result"
    }
   ],
   "source": [
    "# creating a dataframe with the coefficients\n",
    "coeffs = pd.DataFrame(lr_model_lst)\n",
    "\n",
    "# creating a list of coeff names \n",
    "coef_names = ['Intercept', 'Cross Sell Sucess', 'Total Meals Ordered',\n",
    "              'Unique Meals Purchased', 'Product Categories Viewed',\n",
    "              'Average Order Size', 'Median Meal Rating', \n",
    "              'Total Photos Viewed', 'Log Average Prep Video Time',\n",
    "              'Log Unique Meals Purchased', 'Log Contacts with Customer Service',\n",
    "              'Log Product Categories Viewed', \"Log Total Meals Ordered\"]\n",
    "\n",
    "# renaming the coeffs\n",
    "coeffs[0] = coef_names\n",
    "\n",
    "# renaming the dataframe column names\n",
    "coeffs.columns = ['Labels', 'Coefs']\n",
    "\n",
    "# calling the dataframe\n",
    "coeffs"
   ]
  },
  {
   "cell_type": "markdown",
   "metadata": {},
   "source": [
    "# CROSS-SELL SUCCESS"
   ]
  },
  {
   "cell_type": "code",
   "execution_count": 25,
   "metadata": {
    "code_folding": [
     0
    ]
   },
   "outputs": [],
   "source": [
    "# creating a varibale with features for random forest\n",
    "x_two_variables = ['total_meals_ordered', 'log_contacts_w_customer_service',\n",
    "                   'mobile_number', 'cancellations_before_noon',\n",
    "                   'tastes_and_preferences', 'mobile_logins', 'weekly_plan',\n",
    "                   'log_avg_prep_vid_time', 'has_master_classes_attended',\n",
    "                   'log_pc_logins', 'email_junk', 'procastinator',\n",
    "                   'email_professional', 'log_product_categories_viewed',\n",
    "                   'working', 'active_pc_user', 'common_user',\n",
    "                   'weekend_fighter', 'number_of_names']\n",
    "\n",
    "\n",
    "# train/test split with the full model\n",
    "ac_data   =  ac_dataset[x_two_variables]\n",
    "ac_target =  ac_dataset.loc[ : , 'cross_sell_success']\n",
    "\n",
    "# this is the exact code we were using before\n",
    "X_train, X_test, y_train, y_test = train_test_split(\n",
    "            ac_data,\n",
    "            ac_target,\n",
    "            random_state = 219,\n",
    "            test_size    = 0.25,\n",
    "            stratify     = ac_target)\n",
    "\n",
    "\n",
    "# instantiating model\n",
    "forest_tuned = RandomForestClassifier(bootstrap=False, max_depth=8, max_features='sqrt',\n",
    "                        min_samples_split=4, n_estimators=350, random_state=219)\n",
    "\n",
    "# FITTING the model object\n",
    "forest_tuned_fit = forest_tuned.fit(ac_data, ac_target)\n",
    "\n",
    "# PREDICTING based on the testing set\n",
    "forest_tuned_pred = forest_tuned_fit.predict(X_test)\n",
    "\n",
    "# # SCORING the results\n",
    "# print('Forest Tuned Training ACCURACY:', forest_tuned.score(X_train, y_train).round(4))\n",
    "# print('Forest Tuned Testing  ACCURACY:', forest_tuned.score(X_test, y_test).round(4))\n",
    "\n",
    "# saving scoring data for future use\n",
    "forest_tuned_train_score = forest_tuned.score(X_train, y_train).round(4) # accuracy\n",
    "forest_tuned_test_score  = forest_tuned.score(X_test, y_test).round(4)   # accuracy\n",
    "\n",
    "# # displaying and saving the gap between training and testing\n",
    "# print('Forest Train-Test Gap   :', abs(forest_tuned_train_score - \\\n",
    "#                                        forest_tuned_test_score).round(4))\n",
    "\n",
    "forest_tuned_gap = abs(forest_tuned_train_score - forest_tuned_test_score).round(4)\n",
    "\n",
    "# unpacking the confusion matrix\n",
    "rand_forest_tn, \\\n",
    "rand_forest_fp, \\\n",
    "rand_forest_fn, \\\n",
    "rand_forest_tp = confusion_matrix(y_true = y_test, y_pred = forest_tuned_pred).ravel()\n",
    "\n",
    "\n",
    "# # printing each result one-by-one\n",
    "# print(f\"\"\"\n",
    "# True Negatives : {rand_forest_tn}\n",
    "# False Positives: {rand_forest_fp}\n",
    "# False Negatives: {rand_forest_fn}\n",
    "# True Positives : {rand_forest_tp}\n",
    "# \"\"\")\n",
    "\n",
    "# saving the AUC score\n",
    "forest_tuned_auc = roc_auc_score(y_true  = y_test,\n",
    "                                 y_score = forest_tuned_pred).round(4) # auc\n",
    "\n",
    "\n",
    "# print('Forest Tuned AUC Score        :', roc_auc_score(y_true  = y_test,\n",
    "#                                                         y_score = forest_tuned_pred).round(6))"
   ]
  },
  {
   "cell_type": "code",
   "execution_count": 26,
   "metadata": {
    "code_folding": [
     0
    ]
   },
   "outputs": [],
   "source": [
    "# UDF for plotting feature importance\n",
    "def plot_feature_importances(model, train, export = False):\n",
    "    \"\"\"\n",
    "    Plots the importance of features from a CART model.\n",
    "    \n",
    "    PARAMETERS\n",
    "    ----------\n",
    "    model  : CART model\n",
    "    train  : explanatory variable training data\n",
    "    export : whether or not to export as a .png image, default False\n",
    "    \"\"\"\n",
    "    \n",
    "    # declaring the number\n",
    "    n_features = train.shape[1]\n",
    "    \n",
    "    # setting plot window\n",
    "    fig, ax = plt.subplots(figsize=(12,9))\n",
    "    \n",
    "    plt.barh(range(n_features), model.feature_importances_, align='center')\n",
    "    plt.yticks(np.arange(n_features), train.columns)\n",
    "    plt.xlabel(\"Feature importance\")\n",
    "    plt.ylabel(\"Feature\")\n",
    "    \n",
    "    if export == True:\n",
    "        plt.savefig('./analysis_images/Feature_Importance.png')"
   ]
  },
  {
   "cell_type": "code",
   "execution_count": 27,
   "metadata": {
    "code_folding": [
     0
    ]
   },
   "outputs": [
    {
     "data": {
      "image/png": "[encoded data removed]",
      "text/plain": [
       "<Figure size 864x648 with 1 Axes>"
      ]
     },
     "metadata": {
      "needs_background": "light"
     },
     "output_type": "display_data"
    }
   ],
   "source": [
    "# creating a varibale with feature names\n",
    "column_names = ['Total Meals Ordered', 'Log Contacts with Customer Service', \n",
    "                'Mobile Number', 'Meal Cancellations Before Noon', \n",
    "                'Tastes and Preferences', 'Mobile Logins', 'Weekly Plan',\n",
    "                'Log Average Prep. Video Time', 'Has Attended Master Class',\n",
    "                'Log PC Logins', 'Junk Email', 'Procastinator (Engineered)',\n",
    "                'Professional Email', 'Log Product Categories Viewed', \n",
    "                'Working (Engineered)', 'Active PC User (Engineered)', \n",
    "                'Common User (Engineered)', 'Weekend Fighter (Engineered)', \n",
    "                'Number of Names']\n",
    "\n",
    "# renaming colums\n",
    "X_train.columns = column_names\n",
    "\n",
    "# plotting feature importances\n",
    "plot_feature_importances(forest_tuned_fit,\n",
    "                         train = X_train,\n",
    "                         export = False)"
   ]
  },
  {
   "cell_type": "markdown",
   "metadata": {},
   "source": [
    "A random forest model with an AUC score of 80.976% was created. According to the model, one of the most important variables is Junk mail. Halfway There promotional campaigns should be targeted at users with the email providers classified as junk.\n",
    "\n",
    "Even in this model, the importance of log average preparation video time is seen. The company should look into ways to increase the amount of time spent watching preparation videos. This increase could lead to a rise in not only revenue but also cross-sell success."
   ]
  },
  {
   "cell_type": "markdown",
   "metadata": {},
   "source": [
    "# Conclusion"
   ]
  },
  {
   "cell_type": "markdown",
   "metadata": {},
   "source": [
    "These models can be used to predict customers' behaviors and also check what influences their decisions. The company should use the insights derived from these models to direct the customer-facing choices of the company. "
   ]
  }
 ],
 "metadata": {
  "hide_input": false,
  "kernelspec": {
   "display_name": "Python 3",
   "language": "python",
   "name": "python3"
  },
  "language_info": {
   "codemirror_mode": {
    "name": "ipython",
    "version": 3
   },
   "file_extension": ".py",
   "mimetype": "text/x-python",
   "name": "python",
   "nbconvert_exporter": "python",
   "pygments_lexer": "ipython3",
   "version": "3.8.3"
  },
  "toc": {
   "base_numbering": 1,
   "nav_menu": {},
   "number_sections": true,
   "sideBar": true,
   "skip_h1_title": false,
   "title_cell": "Table of Contents",
   "title_sidebar": "Contents",
   "toc_cell": false,
   "toc_position": {},
   "toc_section_display": true,
   "toc_window_display": false
  },
  "varInspector": {
   "cols": {
    "lenName": 16,
    "lenType": 16,
    "lenVar": 40
   },
   "kernels_config": {
    "python": {
     "delete_cmd_postfix": "",
     "delete_cmd_prefix": "del ",
     "library": "var_list.py",
     "varRefreshCmd": "print(var_dic_list())"
    },
    "r": {
     "delete_cmd_postfix": ") ",
     "delete_cmd_prefix": "rm(",
     "library": "var_list.r",
     "varRefreshCmd": "cat(var_dic_list()) "
    }
   },
   "types_to_exclude": [
    "module",
    "function",
    "builtin_function_or_method",
    "instance",
    "_Feature"
   ],
   "window_display": false
  }
 },
 "nbformat": 4,
 "nbformat_minor": 4
}
